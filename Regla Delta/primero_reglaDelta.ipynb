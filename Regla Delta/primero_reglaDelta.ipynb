{
 "cells": [
  {
   "cell_type": "markdown",
   "id": "7c42514b",
   "metadata": {},
   "source": [
    "## Implementacion de la regla delta\n",
    "\n",
    "En este notebook se implementa un perceptron, para obtener la salida que tiene una compuerta logica AND:\n",
    "\n",
    "| A | B | Salida |\n",
    "| --- | --- | --- |\n",
    "| 0 | 0 | 0 |\n",
    "| --- | --- | --- |\n",
    "| 0 | 1 | 0 |\n",
    "| --- | --- | --- |\n",
    "| 1 | 0 | 0 |\n",
    "| --- | --- | --- |\n",
    "| 1 | 1 | 1 |\n"
   ]
  },
  {
   "cell_type": "code",
   "execution_count": 1,
   "id": "0a903b02",
   "metadata": {},
   "outputs": [],
   "source": [
    "# importamos las librerias necesarias\n",
    "import numpy as np\n",
    "import torch\n",
    "import random"
   ]
  },
  {
   "cell_type": "code",
   "execution_count": 2,
   "id": "82ae70cc",
   "metadata": {},
   "outputs": [
    {
     "data": {
      "text/plain": [
       "array([[0., 0.],\n",
       "       [0., 1.],\n",
       "       [1., 0.],\n",
       "       [1., 1.]])"
      ]
     },
     "execution_count": 2,
     "metadata": {},
     "output_type": "execute_result"
    }
   ],
   "source": [
    "#declaramos las entradas de la compuerta\n",
    "entradas = np.array([[0.0,0.0],[0.0,1.0],[1.0,0.0],[1.0,1.0]])\n",
    "entradas"
   ]
  },
  {
   "cell_type": "code",
   "execution_count": 3,
   "id": "7a331d57",
   "metadata": {},
   "outputs": [
    {
     "data": {
      "text/plain": [
       "array([[0.],\n",
       "       [0.],\n",
       "       [0.],\n",
       "       [1.]])"
      ]
     },
     "execution_count": 3,
     "metadata": {},
     "output_type": "execute_result"
    }
   ],
   "source": [
    "#declaramos las salidas de la compuerta\n",
    "salidas = np.array([[0.0],[0.0],[0.0],[1.0]])\n",
    "salidas"
   ]
  },
  {
   "cell_type": "code",
   "execution_count": 29,
   "id": "64fd6c5b",
   "metadata": {},
   "outputs": [
    {
     "data": {
      "text/plain": [
       "array([1., 1.])"
      ]
     },
     "execution_count": 29,
     "metadata": {},
     "output_type": "execute_result"
    }
   ],
   "source": [
    "# Se inicializan los pesos\n",
    "#####################################\n",
    "#Si lo requieres aleatorios :\n",
    "# pesos = np.zeros(2)\n",
    "#for i in range(len(pesos)):\n",
    "#    pesos[i] = random.random()\n",
    "\n",
    "#####################################\n",
    "\n",
    "#Si requieres ingresar los pesos que sean de tu agrado\n",
    "## Verificar que sean tipo float, es decir que lleve el punto decimal\n",
    "pesos= np.array([1.0,1.0]) \n",
    "\n",
    "pesos"
   ]
  },
  {
   "cell_type": "code",
   "execution_count": 2,
   "id": "7d67b915",
   "metadata": {},
   "outputs": [
    {
     "name": "stdout",
     "output_type": "stream",
     "text": [
      "[0.1]\n"
     ]
    },
    {
     "data": {
      "text/plain": [
       "array([0.5])"
      ]
     },
     "execution_count": 2,
     "metadata": {},
     "output_type": "execute_result"
    }
   ],
   "source": [
    "## Declaramos alpha y el sesgo a emplear en este caso de estudio \n",
    "# Alpha es el learning rate o tasa de aprendizaje que tendra el perceptron\n",
    "alpha = np.array([0.1])\n",
    "print(alpha)\n",
    "# Sesgo o bias \n",
    "sesgo = np.array([0.5])\n",
    "sesgo"
   ]
  },
  {
   "cell_type": "code",
   "execution_count": 24,
   "id": "c468d224",
   "metadata": {},
   "outputs": [
    {
     "name": "stdout",
     "output_type": "stream",
     "text": [
      "[0. 0.]\n",
      "[0.]\n",
      "[0. 1.]\n",
      "[0.]\n",
      "[1. 0.]\n",
      "[0.]\n",
      "[1. 1.]\n",
      "[1.]\n"
     ]
    }
   ],
   "source": [
    "for i in range(0,4):\n",
    "    print(entradas[i])\n",
    "    print(salidas[i])"
   ]
  },
  {
   "cell_type": "code",
   "execution_count": 35,
   "id": "b433f9b6",
   "metadata": {},
   "outputs": [
    {
     "name": "stdout",
     "output_type": "stream",
     "text": [
      "tensor([[0., 0.],\n",
      "        [0., 1.],\n",
      "        [1., 0.],\n",
      "        [1., 1.]], dtype=torch.float64)\n",
      "tensor([[0.],\n",
      "        [0.],\n",
      "        [0.],\n",
      "        [1.]], dtype=torch.float64)\n",
      "tensor([0.8000, 0.8000], dtype=torch.float64)\n",
      "tensor([0.5000], dtype=torch.float64)\n",
      "tensor([0.1000], dtype=torch.float64)\n"
     ]
    }
   ],
   "source": [
    "## Conversion de arrays numpy a tensores con torch.from_numpy()\n",
    "entrada_T = torch.from_numpy(entradas)\n",
    "print(entrada_T)\n",
    "salidas_T = torch.from_numpy(salidas)\n",
    "print(salidas_T)\n",
    "pesos_T = torch.from_numpy(pesos)\n",
    "print(pesos_T)\n",
    "sesgo_T = torch.from_numpy(sesgo)\n",
    "print(sesgo_T)\n",
    "alpha_T = torch.from_numpy(alpha)\n",
    "print(alpha_T)"
   ]
  },
  {
   "cell_type": "code",
   "execution_count": 17,
   "id": "07d4e0f6",
   "metadata": {},
   "outputs": [],
   "source": [
    "# la funcion step() evalua y a la salida se tiene un escalon para todo valor mayor o igual a cero\n",
    "def Step (y):\n",
    "    x = 0\n",
    "    if (y>=0):\n",
    "        x = 1\n",
    "    else:\n",
    "        x = 0\n",
    "    return x\n",
    "\n",
    "# el perceptron realiza las operaciones de un perceptro simple; es decir, multiplica \n",
    "# pesos por la entrada, suma esos resultados y -resta el sesgo\n",
    "# el resultado de esa suma se evalua en la funcion Step()\n",
    "def Perceptron (x,w,b):\n",
    "    \n",
    "    H = torch.add(torch.dot(w,x),-b)\n",
    "    Y = Step(H)\n",
    "    return Y\n",
    "\n",
    "# Calculo del error: salida esperada - prediccion perceptron\n",
    "def Error (s,y):\n",
    "    er = torch.add(s,-y)\n",
    "    return er\n",
    "\n",
    "## Actualizacion de pesos mediante regla delta\n",
    "def Actualiza (p,er,en,al, s):\n",
    "    for i in range(len(p)):\n",
    "        a = al*en[i]\n",
    "        p[i] = torch.add(p[i],torch.dot(a,er))\n",
    "    b = al*-1\n",
    "    s = torch.add(s,torch.dot(er,b))\n",
    "    return p,s"
   ]
  },
  {
   "cell_type": "code",
   "execution_count": 36,
   "id": "a508290a",
   "metadata": {},
   "outputs": [
    {
     "name": "stdout",
     "output_type": "stream",
     "text": [
      "El error en la epoca 0 con los patrones 0 es: tensor([0.], dtype=torch.float64)\n",
      "Salida perceptron:  0\n",
      "El error es 0\n",
      "El error en la epoca 0 con los patrones 1 es: tensor([-1.], dtype=torch.float64)\n",
      "Salida perceptron:  1\n",
      "Modificando pesos:  tensor([0.8000, 0.8000], dtype=torch.float64) sesgo: tensor([0.5000], dtype=torch.float64)\n",
      "Actualizacion pesos: tensor([0.8000, 0.7000], dtype=torch.float64) sesgo: tensor([0.6000], dtype=torch.float64)\n",
      "El error en la epoca 0 con los patrones 2 es: tensor([-1.], dtype=torch.float64)\n",
      "Salida perceptron:  1\n",
      "Modificando pesos:  tensor([0.8000, 0.7000], dtype=torch.float64) sesgo: tensor([0.6000], dtype=torch.float64)\n",
      "Actualizacion pesos: tensor([0.7000, 0.7000], dtype=torch.float64) sesgo: tensor([0.7000], dtype=torch.float64)\n",
      "El error en la epoca 0 con los patrones 3 es: tensor([0.], dtype=torch.float64)\n",
      "Salida perceptron:  1\n",
      "El error es 0\n",
      "El error en la epoca 1 con los patrones 0 es: tensor([0.], dtype=torch.float64)\n",
      "Salida perceptron:  0\n",
      "El error es 0\n",
      "El error en la epoca 1 con los patrones 1 es: tensor([-1.], dtype=torch.float64)\n",
      "Salida perceptron:  1\n",
      "Modificando pesos:  tensor([0.7000, 0.7000], dtype=torch.float64) sesgo: tensor([0.7000], dtype=torch.float64)\n",
      "Actualizacion pesos: tensor([0.7000, 0.6000], dtype=torch.float64) sesgo: tensor([0.8000], dtype=torch.float64)\n",
      "El error en la epoca 1 con los patrones 2 es: tensor([0.], dtype=torch.float64)\n",
      "Salida perceptron:  0\n",
      "El error es 0\n",
      "El error en la epoca 1 con los patrones 3 es: tensor([0.], dtype=torch.float64)\n",
      "Salida perceptron:  1\n",
      "El error es 0\n",
      "El error en la epoca 2 con los patrones 0 es: tensor([0.], dtype=torch.float64)\n",
      "Salida perceptron:  0\n",
      "El error es 0\n",
      "El error en la epoca 2 con los patrones 1 es: tensor([0.], dtype=torch.float64)\n",
      "Salida perceptron:  0\n",
      "El error es 0\n",
      "El error en la epoca 2 con los patrones 2 es: tensor([0.], dtype=torch.float64)\n",
      "Salida perceptron:  0\n",
      "El error es 0\n",
      "El error en la epoca 2 con los patrones 3 es: tensor([0.], dtype=torch.float64)\n",
      "Salida perceptron:  1\n",
      "El error es 0\n",
      "El error en la epoca 3 con los patrones 0 es: tensor([0.], dtype=torch.float64)\n",
      "Salida perceptron:  0\n",
      "El error es 0\n",
      "El error en la epoca 3 con los patrones 1 es: tensor([0.], dtype=torch.float64)\n",
      "Salida perceptron:  0\n",
      "El error es 0\n",
      "El error en la epoca 3 con los patrones 2 es: tensor([0.], dtype=torch.float64)\n",
      "Salida perceptron:  0\n",
      "El error es 0\n",
      "El error en la epoca 3 con los patrones 3 es: tensor([0.], dtype=torch.float64)\n",
      "Salida perceptron:  1\n",
      "El error es 0\n",
      "El error en la epoca 4 con los patrones 0 es: tensor([0.], dtype=torch.float64)\n",
      "Salida perceptron:  0\n",
      "El error es 0\n",
      "El error en la epoca 4 con los patrones 1 es: tensor([0.], dtype=torch.float64)\n",
      "Salida perceptron:  0\n",
      "El error es 0\n",
      "El error en la epoca 4 con los patrones 2 es: tensor([0.], dtype=torch.float64)\n",
      "Salida perceptron:  0\n",
      "El error es 0\n",
      "El error en la epoca 4 con los patrones 3 es: tensor([0.], dtype=torch.float64)\n",
      "Salida perceptron:  1\n",
      "El error es 0\n"
     ]
    }
   ],
   "source": [
    "##Entrenamiento \n",
    "for i in range(0,5): # 5 Epocas\n",
    "    for j in range(len(entrada_T)): # Se evalua cada patron de entrada \n",
    "        salida = Perceptron(entrada_T[j],pesos_T, sesgo_T)\n",
    "        e  = Error(salidas_T[j], salida)\n",
    "        print(\"El error en la epoca\", i,\"con los patrones\",j,\"es:\",e)\n",
    "        print(\"Salida perceptron: \", salida)\n",
    "        if (e == 0):\n",
    "            print (\"El error es 0\")\n",
    "        else: # si hay error despues de la evaluacion, se calculan nuevos pesos antes de \n",
    "            # pasar al siguiente conjunto de patrones en el banco de datos\n",
    "            print(\"Modificando pesos: \", pesos_T,\"sesgo:\", sesgo_T)\n",
    "            pesos_T, sesgo_T = Actualiza(pesos_T,e,entrada_T[j],alpha_T,sesgo_T)\n",
    "            print(\"Actualizacion pesos:\", pesos_T,\"sesgo:\", sesgo_T)"
   ]
  },
  {
   "cell_type": "code",
   "execution_count": 34,
   "id": "c889bc94",
   "metadata": {},
   "outputs": [
    {
     "data": {
      "text/plain": [
       "4"
      ]
     },
     "execution_count": 34,
     "metadata": {},
     "output_type": "execute_result"
    }
   ],
   "source": [
    "len(entrada_T)"
   ]
  },
  {
   "cell_type": "code",
   "execution_count": null,
   "id": "7085cf8b",
   "metadata": {},
   "outputs": [],
   "source": []
  }
 ],
 "metadata": {
  "kernelspec": {
   "display_name": "Python 3.8 (pytorch)",
   "language": "python",
   "name": "pytorch"
  },
  "language_info": {
   "codemirror_mode": {
    "name": "ipython",
    "version": 3
   },
   "file_extension": ".py",
   "mimetype": "text/x-python",
   "name": "python",
   "nbconvert_exporter": "python",
   "pygments_lexer": "ipython3",
   "version": "3.8.11"
  }
 },
 "nbformat": 4,
 "nbformat_minor": 5
}
